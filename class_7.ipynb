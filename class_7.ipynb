{
 "cells": [
  {
   "cell_type": "code",
   "execution_count": 1,
   "id": "bd3e57ac",
   "metadata": {},
   "outputs": [],
   "source": [
    "# @tile **continue**       ---- skips"
   ]
  },
  {
   "cell_type": "code",
   "execution_count": 2,
   "id": "7ea403e4",
   "metadata": {},
   "outputs": [
    {
     "name": "stdout",
     "output_type": "stream",
     "text": [
      "0\n",
      "1\n",
      "2\n",
      "3\n",
      "4\n",
      "6\n",
      "7\n",
      "8\n",
      "9\n"
     ]
    }
   ],
   "source": [
    "for i in range(10):\n",
    "    if i == 5:\n",
    "        continue\n",
    "    print(i)"
   ]
  },
  {
   "cell_type": "code",
   "execution_count": 4,
   "id": "72668336",
   "metadata": {},
   "outputs": [],
   "source": [
    "# @tile **break**            ----- jumps out of the look"
   ]
  },
  {
   "cell_type": "code",
   "execution_count": 5,
   "id": "aec9bcd5",
   "metadata": {},
   "outputs": [
    {
     "name": "stdout",
     "output_type": "stream",
     "text": [
      "0\n",
      "1\n",
      "2\n",
      "3\n",
      "4\n"
     ]
    }
   ],
   "source": [
    "for i in range(10):\n",
    "    if i ==5:\n",
    "        break\n",
    "    print(i)"
   ]
  },
  {
   "cell_type": "markdown",
   "id": "476140d6",
   "metadata": {},
   "source": [
    "## comprehension"
   ]
  },
  {
   "cell_type": "markdown",
   "id": "13c45917",
   "metadata": {},
   "source": [
    "### used only for mutable data structures. i.e. list, dictionary"
   ]
  },
  {
   "cell_type": "code",
   "execution_count": 12,
   "id": "1c0ab1dc",
   "metadata": {},
   "outputs": [
    {
     "data": {
      "text/plain": [
       "[4, 4, 5]"
      ]
     },
     "execution_count": 12,
     "metadata": {},
     "output_type": "execute_result"
    }
   ],
   "source": [
    "names = ['John', 'Jack', 'Smack']\n",
    "l0 = []\n",
    "for i in names:\n",
    "    l0.append(len(i))\n",
    "l0"
   ]
  },
  {
   "cell_type": "code",
   "execution_count": 13,
   "id": "a75a81a4",
   "metadata": {},
   "outputs": [
    {
     "data": {
      "text/plain": [
       "['John', 'Jack', 'Smack']"
      ]
     },
     "execution_count": 13,
     "metadata": {},
     "output_type": "execute_result"
    }
   ],
   "source": [
    "l1 = [i for i in names]\n",
    "l1"
   ]
  },
  {
   "cell_type": "code",
   "execution_count": 10,
   "id": "a6cf4c81",
   "metadata": {},
   "outputs": [
    {
     "data": {
      "text/plain": [
       "[4, 4, 5]"
      ]
     },
     "execution_count": 10,
     "metadata": {},
     "output_type": "execute_result"
    }
   ],
   "source": [
    "l2 = [len(i) for i in names]\n",
    "l2"
   ]
  },
  {
   "cell_type": "code",
   "execution_count": 14,
   "id": "f60a1d98",
   "metadata": {},
   "outputs": [
    {
     "data": {
      "text/plain": [
       "['john', 'jack', 'smack']"
      ]
     },
     "execution_count": 14,
     "metadata": {},
     "output_type": "execute_result"
    }
   ],
   "source": [
    "l3 = [i.lower() for i in names]\n",
    "l3"
   ]
  },
  {
   "cell_type": "code",
   "execution_count": 15,
   "id": "9d554886",
   "metadata": {},
   "outputs": [
    {
     "data": {
      "text/plain": [
       "[0, 1, 2, 3, 4, 5, 6, 7, 8, 9, 10, 11, 12, 13, 14, 15, 16, 17, 18, 19]"
      ]
     },
     "execution_count": 15,
     "metadata": {},
     "output_type": "execute_result"
    }
   ],
   "source": [
    "l4 = [i for i in range(20)]\n",
    "l4"
   ]
  },
  {
   "cell_type": "code",
   "execution_count": 16,
   "id": "14dfbc09",
   "metadata": {},
   "outputs": [
    {
     "data": {
      "text/plain": [
       "[0, 2, 4, 6, 8, 10, 12, 14, 16, 18]"
      ]
     },
     "execution_count": 16,
     "metadata": {},
     "output_type": "execute_result"
    }
   ],
   "source": [
    "l5 = [i for i in range(20) if i%2 ==0]\n",
    "l5"
   ]
  },
  {
   "cell_type": "code",
   "execution_count": 18,
   "id": "95951238",
   "metadata": {},
   "outputs": [
    {
     "data": {
      "text/plain": [
       "['John']"
      ]
     },
     "execution_count": 18,
     "metadata": {},
     "output_type": "execute_result"
    }
   ],
   "source": [
    "l6 = [name for name in names if \"o\" in name]\n",
    "l6"
   ]
  },
  {
   "cell_type": "code",
   "execution_count": 19,
   "id": "58ecd085",
   "metadata": {},
   "outputs": [
    {
     "data": {
      "text/plain": [
       "{1: 'John', 2: 'Jack', 3: 'Smack'}"
      ]
     },
     "execution_count": 19,
     "metadata": {},
     "output_type": "execute_result"
    }
   ],
   "source": [
    "info = {1: 'John', 2: 'Jack', 3: 'Smack'}\n",
    "info"
   ]
  },
  {
   "cell_type": "code",
   "execution_count": 20,
   "id": "19746b11",
   "metadata": {},
   "outputs": [
    {
     "name": "stdout",
     "output_type": "stream",
     "text": [
      "dict_items([(1, 'John'), (2, 'Jack'), (3, 'Smack')])\n"
     ]
    }
   ],
   "source": [
    "print(info.items())"
   ]
  },
  {
   "cell_type": "code",
   "execution_count": 21,
   "id": "71d282cc",
   "metadata": {},
   "outputs": [
    {
     "name": "stdout",
     "output_type": "stream",
     "text": [
      "[(1, 'John'), (2, 'Jack'), (3, 'Smack')]\n"
     ]
    }
   ],
   "source": [
    "l7 = []\n",
    "for i in info:\n",
    "    l7.append((i, info[i]))\n",
    "print(l7)"
   ]
  },
  {
   "cell_type": "code",
   "execution_count": 22,
   "id": "0eebeead",
   "metadata": {},
   "outputs": [
    {
     "data": {
      "text/plain": [
       "[(1, 'John'), (2, 'Jack'), (3, 'Smack')]"
      ]
     },
     "execution_count": 22,
     "metadata": {},
     "output_type": "execute_result"
    }
   ],
   "source": [
    "l8 = [(i, info[i]) for i in info]\n",
    "l8"
   ]
  },
  {
   "cell_type": "code",
   "execution_count": 25,
   "id": "64ed1c45",
   "metadata": {},
   "outputs": [
    {
     "data": {
      "text/plain": [
       "[[1, 4, 9], [16, 25, 36], [49, 64, 81]]"
      ]
     },
     "execution_count": 25,
     "metadata": {},
     "output_type": "execute_result"
    }
   ],
   "source": [
    "# nesting with comprehension\n",
    "l9 = [[1,2,3],[4,5,6],[7,8,9]]\n",
    "l10 = [[i**2 for i in j] for j in l9]\n",
    "l10"
   ]
  },
  {
   "cell_type": "code",
   "execution_count": 27,
   "id": "73a56684",
   "metadata": {},
   "outputs": [
    {
     "name": "stdout",
     "output_type": "stream",
     "text": [
      "100\n",
      "50 50 50\n"
     ]
    },
    {
     "ename": "TypeError",
     "evalue": "'<' not supported between instances of 'builtin_function_or_method' and 'int'",
     "output_type": "error",
     "traceback": [
      "\u001b[0;31m---------------------------------------------------------------------------\u001b[0m",
      "\u001b[0;31mTypeError\u001b[0m                                 Traceback (most recent call last)",
      "Cell \u001b[0;32mIn[27], line 4\u001b[0m\n\u001b[1;32m      2\u001b[0m cost \u001b[38;5;241m=\u001b[39m \u001b[38;5;28minput\u001b[39m()\n\u001b[1;32m      3\u001b[0m cost \u001b[38;5;241m=\u001b[39m cost\u001b[38;5;241m.\u001b[39msplit()\n\u001b[0;32m----> 4\u001b[0m \u001b[38;5;28mprint\u001b[39m([\u001b[38;5;124m'\u001b[39m\u001b[38;5;124myes\u001b[39m\u001b[38;5;124m'\u001b[39m \u001b[38;5;28;01mif\u001b[39;00m \u001b[38;5;28msum\u001b[39m \u001b[38;5;241m<\u001b[39m \u001b[38;5;28mint\u001b[39m(cost[\u001b[38;5;241m0\u001b[39m])\u001b[38;5;241m+\u001b[39m\u001b[38;5;28mint\u001b[39m(cost[\u001b[38;5;241m1\u001b[39m])\u001b[38;5;241m+\u001b[39m\u001b[38;5;28mint\u001b[39m(cost[\u001b[38;5;241m2\u001b[39m]) \u001b[38;5;28;01melse\u001b[39;00m \u001b[38;5;124m'\u001b[39m\u001b[38;5;124mno\u001b[39m\u001b[38;5;124m'\u001b[39m])\n",
      "\u001b[0;31mTypeError\u001b[0m: '<' not supported between instances of 'builtin_function_or_method' and 'int'"
     ]
    }
   ],
   "source": [
    "my_sum = int(input())\n",
    "cost = input()\n",
    "cost = cost.split()\n",
    "print(['yes' if sum < int(cost[0])+int(cost[1])+int(cost[2]) else 'no'])\n"
   ]
  },
  {
   "cell_type": "code",
   "execution_count": 29,
   "id": "0b2b7b7b",
   "metadata": {},
   "outputs": [
    {
     "data": {
      "text/plain": [
       "{0: 'a', 1: 'b', 2: 'c', 3: 'd'}"
      ]
     },
     "execution_count": 29,
     "metadata": {},
     "output_type": "execute_result"
    }
   ],
   "source": [
    "#dic comprehension\n",
    "dic_info = {key: value for key,value in enumerate('abcd')}\n",
    "dic_info"
   ]
  },
  {
   "cell_type": "code",
   "execution_count": null,
   "id": "c2e3edd3",
   "metadata": {},
   "outputs": [],
   "source": []
  }
 ],
 "metadata": {
  "kernelspec": {
   "display_name": "Python 3 (ipykernel)",
   "language": "python",
   "name": "python3"
  },
  "language_info": {
   "codemirror_mode": {
    "name": "ipython",
    "version": 3
   },
   "file_extension": ".py",
   "mimetype": "text/x-python",
   "name": "python",
   "nbconvert_exporter": "python",
   "pygments_lexer": "ipython3",
   "version": "3.11.5"
  }
 },
 "nbformat": 4,
 "nbformat_minor": 5
}
