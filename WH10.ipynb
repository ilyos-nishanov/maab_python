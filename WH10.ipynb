{
 "cells": [
  {
   "cell_type": "code",
   "execution_count": 15,
   "id": "0c1dff06-cd93-4ab3-a362-fa347e8eb8a5",
   "metadata": {},
   "outputs": [
    {
     "name": "stdout",
     "output_type": "stream",
     "text": [
      "Hello, my name is joe, and I am 9 years old.\n",
      "None\n"
     ]
    }
   ],
   "source": [
    "#1,2 Create a class named Person with the following attributes:\n",
    "#name (string)\n",
    "#age (integer) Add a method introduce that prints \"Hello, my name is [name] and I am [age] years old.\"\n",
    "class Person():\n",
    "    def __init__(self, name, age):\n",
    "        self.name = name\n",
    "        self.age = age\n",
    "\n",
    "    def introduce(self):\n",
    "        print(f\"Hello, my name is {self.name}, and I am {self.age} years old.\")\n",
    "\n",
    "person1 = Person('joe', 9)\n",
    "print(person1.introduce())"
   ]
  },
  {
   "cell_type": "code",
   "execution_count": 18,
   "id": "547a3e60-a017-4532-81e0-7d1cd2e4ce0a",
   "metadata": {},
   "outputs": [
    {
     "name": "stdout",
     "output_type": "stream",
     "text": [
      "100\n",
      "40\n"
     ]
    }
   ],
   "source": [
    "#3 area and perimeter of a rectangle\n",
    "\n",
    "class Rectangle():\n",
    "\n",
    "    def __init__(self, length, width):\n",
    "        self.length = length\n",
    "        self.width = width\n",
    "\n",
    "    def area(self):\n",
    "        return self.length*self.width\n",
    "\n",
    "    def perimeter(self):\n",
    "        return 2*(self.length+self.width)\n",
    "\n",
    "my_rect = Rectangle(10,10)\n",
    "print(my_rect.area())\n",
    "print(my_rect.perimeter())"
   ]
  },
  {
   "cell_type": "code",
   "execution_count": 21,
   "id": "eeb20cf5-e99e-49dc-ac09-071be11a62eb",
   "metadata": {},
   "outputs": [],
   "source": [
    "#4 Create a base class named Animal with a method make_sound that prints \"Some generic sound\".\n",
    "#Create a subclass named Dog that inherits from Animal and overrides the make_sound method to print \"Bark\".\n",
    "\n",
    "class Animal:\n",
    "    def __init__(self):\n",
    "        print(\"some generic sound\")"
   ]
  },
  {
   "cell_type": "code",
   "execution_count": 22,
   "id": "e2d77df4-9b8a-4b80-9244-ee2364686194",
   "metadata": {},
   "outputs": [
    {
     "name": "stdout",
     "output_type": "stream",
     "text": [
      "some generic sound\n"
     ]
    }
   ],
   "source": [
    "pet = Animal()"
   ]
  },
  {
   "cell_type": "code",
   "execution_count": 25,
   "id": "9dae97dd-2ca3-4b78-ac1d-155785e76921",
   "metadata": {},
   "outputs": [],
   "source": [
    "class Dog(Animal):\n",
    "    def __init__(self):\n",
    "        print(\"bark\")"
   ]
  },
  {
   "cell_type": "code",
   "execution_count": 26,
   "id": "573f03f6-3e4c-447d-a59b-609e176b001a",
   "metadata": {},
   "outputs": [
    {
     "name": "stdout",
     "output_type": "stream",
     "text": [
      "bark\n"
     ]
    }
   ],
   "source": [
    "pet = Dog()"
   ]
  },
  {
   "cell_type": "code",
   "execution_count": 43,
   "id": "e201bb3c-d164-4c6b-9d44-17061ee5545d",
   "metadata": {},
   "outputs": [
    {
     "data": {
      "text/plain": [
       "90000"
      ]
     },
     "execution_count": 43,
     "metadata": {},
     "output_type": "execute_result"
    }
   ],
   "source": [
    "#5 Create a class named BankAccount with the following private attributes:\n",
    "# __balance (float) Add methods to:\n",
    "# Deposit an amount to the account.\n",
    "# Withdraw an amount from the account.\n",
    "# Check the account balance.\n",
    "\n",
    "class BankAccount():\n",
    "    def __init__(self):\n",
    "        self.__balance = 100000\n",
    "    def balance(self):\n",
    "        self.__balance -= self.withdrawal()\n",
    "        return self.__balance\n",
    "    def withdrawal(self, amount):\n",
    "        return self.__balance - amount\n",
    "\n",
    "my_acc = BankAccount()\n",
    "my_acc.withdrawal(10000)\n",
    "# print(my_acc.balance)"
   ]
  },
  {
   "cell_type": "code",
   "execution_count": null,
   "id": "61b41e3d-3b05-4476-9e9a-e2178eaefa91",
   "metadata": {},
   "outputs": [],
   "source": []
  }
 ],
 "metadata": {
  "kernelspec": {
   "display_name": "Python 3 (ipykernel)",
   "language": "python",
   "name": "python3"
  },
  "language_info": {
   "codemirror_mode": {
    "name": "ipython",
    "version": 3
   },
   "file_extension": ".py",
   "mimetype": "text/x-python",
   "name": "python",
   "nbconvert_exporter": "python",
   "pygments_lexer": "ipython3",
   "version": "3.11.5"
  }
 },
 "nbformat": 4,
 "nbformat_minor": 5
}
