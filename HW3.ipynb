{
 "cells": [
  {
   "cell_type": "markdown",
   "id": "b1721362-3c0d-43b8-8519-d2113cc596a8",
   "metadata": {},
   "source": [
    "### Create and Modify Lists\n",
    "\n",
    "1. Create a list named food with two elements, \"rice\" and \"beans\".\n",
    "2. Append the string \"broccoli\" to food using .append().\n",
    "3. Add the strings \"bread\" and \"pizza\" to food using .extend().\n",
    "4. Print the first two items in the food list using print() and slice notation.\n",
    "5. Print the last item in food using print() and index notation.\n",
    "6. Create a list called breakfast from the string \"eggs, fruit, orange juice\" using the string .split() method.\n",
    "7. Verify that breakfast has three items using len().\n",
    "8. Create a new list called lengths using a list comprehension that contains the lengths of each string in the breakfast list."
   ]
  },
  {
   "cell_type": "code",
   "execution_count": 72,
   "id": "238dc9db-663b-4dcb-86a3-02c0f58b1181",
   "metadata": {},
   "outputs": [],
   "source": [
    "# 1\n",
    "food = [\"rice\", \"beans\"]"
   ]
  },
  {
   "cell_type": "code",
   "execution_count": 73,
   "id": "bffa73af-784f-4915-aadf-412eca96f818",
   "metadata": {},
   "outputs": [],
   "source": [
    "#2\n",
    "food.append(\"broccoli\")"
   ]
  },
  {
   "cell_type": "code",
   "execution_count": 74,
   "id": "a2081afc-e4f1-4d5a-81bd-0a2f8aece111",
   "metadata": {},
   "outputs": [
    {
     "data": {
      "text/plain": [
       "['rice', 'beans', 'broccoli']"
      ]
     },
     "execution_count": 74,
     "metadata": {},
     "output_type": "execute_result"
    }
   ],
   "source": [
    "food"
   ]
  },
  {
   "cell_type": "code",
   "execution_count": 75,
   "id": "b6f21568-3758-4ccb-8de0-735fdebad181",
   "metadata": {},
   "outputs": [],
   "source": [
    "#3\n",
    "food.extend([\"bread\", \"pizza\"])"
   ]
  },
  {
   "cell_type": "code",
   "execution_count": 76,
   "id": "65ec3351-4c65-461a-9f1a-55e23167bd7d",
   "metadata": {},
   "outputs": [
    {
     "data": {
      "text/plain": [
       "['rice', 'beans', 'broccoli', 'bread', 'pizza']"
      ]
     },
     "execution_count": 76,
     "metadata": {},
     "output_type": "execute_result"
    }
   ],
   "source": [
    "food"
   ]
  },
  {
   "cell_type": "code",
   "execution_count": 77,
   "id": "32897b5d-3d18-4b9f-affa-a5d56736fc4e",
   "metadata": {},
   "outputs": [
    {
     "name": "stdout",
     "output_type": "stream",
     "text": [
      "['rice', 'beans']\n"
     ]
    }
   ],
   "source": [
    "#4 \n",
    "print(food[0:2])"
   ]
  },
  {
   "cell_type": "code",
   "execution_count": 78,
   "id": "bff30eb6-6df8-41c1-923f-f226eb8bfd21",
   "metadata": {},
   "outputs": [],
   "source": [
    "#5 \n",
    "breakfast=\"eggs, fruit, orange juice\".split(',')"
   ]
  },
  {
   "cell_type": "code",
   "execution_count": 79,
   "id": "527b3381-a31e-4da7-ad5a-62925a0942e7",
   "metadata": {},
   "outputs": [
    {
     "data": {
      "text/plain": [
       "13"
      ]
     },
     "execution_count": 79,
     "metadata": {},
     "output_type": "execute_result"
    }
   ],
   "source": [
    "#6\n",
    "len(breakfast[2])"
   ]
  },
  {
   "cell_type": "code",
   "execution_count": 80,
   "id": "7aed7b6d-8d9c-431a-b544-924ff2a004a3",
   "metadata": {},
   "outputs": [],
   "source": [
    "#7\n",
    "lengths=[]\n",
    "for item in breakfast:\n",
    "    lengths.append(len(item.strip()))"
   ]
  },
  {
   "cell_type": "code",
   "execution_count": 81,
   "id": "82a3369c-88b1-49a3-9cc2-701ec35d692e",
   "metadata": {},
   "outputs": [
    {
     "data": {
      "text/plain": [
       "[4, 5, 12]"
      ]
     },
     "execution_count": 81,
     "metadata": {},
     "output_type": "execute_result"
    }
   ],
   "source": [
    "lengths"
   ]
  },
  {
   "cell_type": "markdown",
   "id": "c83fb771-24ae-44f7-ab4f-f8446fc657a6",
   "metadata": {},
   "source": [
    "9. Given two integer variables: a and b. Swap the values of the variables."
   ]
  },
  {
   "cell_type": "code",
   "execution_count": 83,
   "id": "d570abf7-b40e-408e-b2f3-58827b49493a",
   "metadata": {},
   "outputs": [
    {
     "name": "stdin",
     "output_type": "stream",
     "text": [
      " 2\n",
      " 3\n"
     ]
    },
    {
     "name": "stdout",
     "output_type": "stream",
     "text": [
      "3 2\n"
     ]
    }
   ],
   "source": [
    "a = int(input())\n",
    "b = int(input())\n",
    "\n",
    "# write code here. Don't change given conditions\n",
    "temp=a\n",
    "a=b\n",
    "b=temp\n",
    "print (a, b)"
   ]
  },
  {
   "cell_type": "markdown",
   "id": "057fec6a-70b6-4500-b371-04e36d1180aa",
   "metadata": {},
   "source": [
    "### Optional\n",
    "\n",
    "#### Find Common Elements\n",
    "\n",
    "1. Create two lists of integers. Write a program to find the common elements between the two lists.\n",
    "Merge and Sort Lists\n",
    "\n",
    "2. Create two lists of integers. Merge them into a single list and sort the resulting list in ascending order.\n",
    "Unique Elements\n",
    "\n",
    "3. Given a list of integers, create a new list that contains only the unique elements from the original list.\n",
    "Remove Duplicates\n",
    "\n",
    "4. Given a list of strings, create a program that removes any duplicate strings from the list.\n",
    "String Length Filter\n",
    "\n",
    "5. Create a list of strings. Write a program that filters out strings from the list that are shorter than a specified length."
   ]
  },
  {
   "cell_type": "code",
   "execution_count": 4,
   "id": "d89a5f09-4aad-4738-8a63-17e90f74b1c5",
   "metadata": {},
   "outputs": [
    {
     "name": "stdout",
     "output_type": "stream",
     "text": [
      "[3, 4]\n",
      "{3, 4}\n",
      "[3, 4]\n"
     ]
    }
   ],
   "source": [
    "#1\n",
    "ints1=[1,5,3,2,4]\n",
    "ints2=[7,4,6,3,7]\n",
    "commonints=[]\n",
    "for i in ints1:\n",
    "    for j in ints2:\n",
    "        if i==j:\n",
    "            commonints.append(j)\n",
    "print(commonints)\n",
    "#option 2\n",
    "print(set(sorted(set(ints1) & set(ints2))))\n",
    "#option 3\n",
    "print([x for x in ints1 if x in ints2])"
   ]
  },
  {
   "cell_type": "code",
   "execution_count": 5,
   "id": "37953889-3558-4eb8-bc9b-dcfc3093131f",
   "metadata": {},
   "outputs": [
    {
     "name": "stdout",
     "output_type": "stream",
     "text": [
      "[1, 2, 3, 3, 4, 4, 5, 6, 7, 7]\n"
     ]
    }
   ],
   "source": [
    "mergedints=ints1+ints2\n",
    "mergedints.sort()\n",
    "print(mergedints)"
   ]
  },
  {
   "cell_type": "code",
   "execution_count": 6,
   "id": "aefd57cc-126a-433f-bb7e-23878cc2fd6d",
   "metadata": {},
   "outputs": [],
   "source": [
    "#2\n",
    "myset=set(mergedints)"
   ]
  },
  {
   "cell_type": "code",
   "execution_count": 7,
   "id": "0dec30ea-9b65-4bc1-b911-4d6a8fb1a1bf",
   "metadata": {},
   "outputs": [
    {
     "data": {
      "text/plain": [
       "{1, 2, 3, 4, 5, 6, 7}"
      ]
     },
     "execution_count": 7,
     "metadata": {},
     "output_type": "execute_result"
    }
   ],
   "source": [
    "myset"
   ]
  },
  {
   "cell_type": "code",
   "execution_count": 8,
   "id": "b1a6344c-db1a-4729-a08a-7a37fa363ce6",
   "metadata": {},
   "outputs": [
    {
     "data": {
      "text/plain": [
       "[1, 2, 3, 4, 5, 6, 7]"
      ]
     },
     "execution_count": 8,
     "metadata": {},
     "output_type": "execute_result"
    }
   ],
   "source": [
    "sorted(myset)"
   ]
  },
  {
   "cell_type": "code",
   "execution_count": 9,
   "id": "75370f68-2890-49de-959c-ef8ce29fafb7",
   "metadata": {},
   "outputs": [
    {
     "data": {
      "text/plain": [
       "[3, 3, 5, 3, 22, 1, 4, 5, 4, 8, 0, 6, 76]"
      ]
     },
     "execution_count": 9,
     "metadata": {},
     "output_type": "execute_result"
    }
   ],
   "source": [
    "#3\n",
    "mylist = [3,3,5,3,22,1,4,5,4,8,0,6,76]\n",
    "mylist"
   ]
  },
  {
   "cell_type": "code",
   "execution_count": 13,
   "id": "afee4ab2-7504-4b90-aa46-5bad3508645d",
   "metadata": {},
   "outputs": [
    {
     "data": {
      "text/plain": [
       "{0, 1, 3, 4, 5, 6, 8, 22, 76}"
      ]
     },
     "execution_count": 13,
     "metadata": {},
     "output_type": "execute_result"
    }
   ],
   "source": [
    "myset=set(mylist)\n",
    "myset"
   ]
  },
  {
   "cell_type": "code",
   "execution_count": 12,
   "id": "54c898ab-bef3-4125-80b3-9ffeda6d81d9",
   "metadata": {},
   "outputs": [
    {
     "data": {
      "text/plain": [
       "[0, 1, 3, 4, 5, 6, 8, 76, 22]"
      ]
     },
     "execution_count": 12,
     "metadata": {},
     "output_type": "execute_result"
    }
   ],
   "source": [
    "mylist=list(myset)\n",
    "mylist"
   ]
  },
  {
   "cell_type": "code",
   "execution_count": 18,
   "id": "5455d48f-8cda-4350-a335-bdee96040e2c",
   "metadata": {},
   "outputs": [
    {
     "data": {
      "text/plain": [
       "{'apple', 'banana', 'cherry', 'date', 'elderberry', 'fig'}"
      ]
     },
     "execution_count": 18,
     "metadata": {},
     "output_type": "execute_result"
    }
   ],
   "source": [
    "#4\n",
    "my_s_list = [\"apple\", \"banana\", \"cherry\", \"date\", \"banana\", \"elderberry\", \"fig\"]\n",
    "unique_set = set(my_s_list)\n",
    "unique_set"
   ]
  },
  {
   "cell_type": "code",
   "execution_count": 19,
   "id": "e6e3f68e-4cae-4250-a125-9bba4f60fc64",
   "metadata": {},
   "outputs": [
    {
     "data": {
      "text/plain": [
       "['apple']"
      ]
     },
     "execution_count": 19,
     "metadata": {},
     "output_type": "execute_result"
    }
   ],
   "source": [
    "string_length_filter= [i for i in unique_set if len(i) == 5]\n",
    "string_length_filter"
   ]
  },
  {
   "cell_type": "code",
   "execution_count": 34,
   "id": "6ce69838-3575-4fa9-969b-95b68b07da46",
   "metadata": {},
   "outputs": [
    {
     "name": "stdin",
     "output_type": "stream",
     "text": [
      "Enter a list of strings (separated by spaces): apple, banana, apple\n",
      "Now enter target string length: 5\n"
     ]
    },
    {
     "data": {
      "text/plain": [
       "['apple']"
      ]
     },
     "execution_count": 34,
     "metadata": {},
     "output_type": "execute_result"
    }
   ],
   "source": [
    "#5\n",
    "def filter_out(string_list, target_length):\n",
    "    unique_strings = set(string_list)\n",
    "    filtered_set_by_str_length= [i for i in unique_strings if len(i)==target_length]\n",
    "    return filtered_set_by_str_length\n",
    "\n",
    "input_strings = input(\"Enter a list of strings:\").split(\",\")\n",
    "tg_length=int(input(\"Now enter target string length:\"))\n",
    "\n",
    "filter_out(input_strings, tg_length)"
   ]
  },
  {
   "cell_type": "code",
   "execution_count": null,
   "id": "9d986885-def5-4bbf-b455-2d338ae5c842",
   "metadata": {},
   "outputs": [],
   "source": []
  }
 ],
 "metadata": {
  "kernelspec": {
   "display_name": "Python 3 (ipykernel)",
   "language": "python",
   "name": "python3"
  },
  "language_info": {
   "codemirror_mode": {
    "name": "ipython",
    "version": 3
   },
   "file_extension": ".py",
   "mimetype": "text/x-python",
   "name": "python",
   "nbconvert_exporter": "python",
   "pygments_lexer": "ipython3",
   "version": "3.11.5"
  }
 },
 "nbformat": 4,
 "nbformat_minor": 5
}
