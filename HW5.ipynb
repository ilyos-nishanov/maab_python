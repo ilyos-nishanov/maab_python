{
 "cells": [
  {
   "cell_type": "markdown",
   "id": "8a28bc82-486a-4ec6-8cd4-45ca0df0a634",
   "metadata": {},
   "source": [
    "## HW5"
   ]
  },
  {
   "cell_type": "code",
   "execution_count": 2,
   "id": "cd7ae610-2feb-41cb-a881-9324443cac68",
   "metadata": {},
   "outputs": [
    {
     "name": "stdin",
     "output_type": "stream",
     "text": [
      "enter a number 4\n"
     ]
    },
    {
     "name": "stdout",
     "output_type": "stream",
     "text": [
      "The number is positive and even.\n"
     ]
    }
   ],
   "source": [
    "#1 Write a program that checks if a number entered by the user is positive and even. \n",
    "#If it is, print \"The number is positive and even.\" Otherwise, print \"The number is not positive and even.\"\n",
    "number = int(input(\"enter a number\"))\n",
    "if number > 0 and number%2==0:\n",
    "    print(\"The number is positive and even.\")\n",
    "else:\n",
    "    print(\"The number is not positive and even.\")"
   ]
  },
  {
   "cell_type": "code",
   "execution_count": 7,
   "id": "a31469c8-4991-4e6e-85e8-389a714751fc",
   "metadata": {},
   "outputs": [
    {
     "name": "stdin",
     "output_type": "stream",
     "text": [
      "enter first number:  34\n",
      "enter second number:  56\n"
     ]
    },
    {
     "name": "stdout",
     "output_type": "stream",
     "text": [
      "Both numbers are greater than 10.\n"
     ]
    }
   ],
   "source": [
    "#2 Create a program that takes two inputs from the user. If both inputs are greater than 10, print \"Both numbers are greater than 10.\" \n",
    "#Otherwise, print \"At least one number is not greater than 10.\"\n",
    "num1 = int(input(\"enter first number: \"))\n",
    "num2 = int(input(\"enter second number: \"))\n",
    "if num1>10 and num2 >10:\n",
    "    print(\"Both numbers are greater than 10.\")\n",
    "else:\n",
    "    print(\"At least one of the numbers is not greater than 10.\")"
   ]
  },
  {
   "cell_type": "code",
   "execution_count": 3,
   "id": "202bb2f7-b6a9-4f45-9831-873e6d794198",
   "metadata": {},
   "outputs": [
    {
     "name": "stdin",
     "output_type": "stream",
     "text": [
      "your age please:  12\n",
      "you got drivers license?  nope\n"
     ]
    },
    {
     "name": "stdout",
     "output_type": "stream",
     "text": [
      "You are not allowed to drive.\n"
     ]
    }
   ],
   "source": [
    "# 3 Write a program that asks the user for their age and whether they have a driver's license (yes or no). \n",
    "#If they are at least 18 years old or they have a driver's license, print \"You are allowed to drive.\" \n",
    "#Otherwise, print \"You are not allowed to drive.\"\n",
    "\n",
    "age = int(input(\"your age please: \"))\n",
    "d_license = input('you got drivers license? ')\n",
    "if age >= 18 or d_license == 'yes':\n",
    "    print('You are good to drive')\n",
    "else:\n",
    "    print(\"You are not allowed to drive.\")"
   ]
  },
  {
   "cell_type": "code",
   "execution_count": 5,
   "id": "716ad5a1-760d-457e-8552-88a00ef0e023",
   "metadata": {},
   "outputs": [
    {
     "name": "stdin",
     "output_type": "stream",
     "text": [
      "is it raining? yes/no:  yes\n"
     ]
    },
    {
     "name": "stdout",
     "output_type": "stream",
     "text": [
      "You should stay inside.\n"
     ]
    }
   ],
   "source": [
    "#4 Create a program that asks the user if it is raining (yes or no). If it is not raining, print \"You can go outside.\" \n",
    "#Otherwise, print \"You should stay inside.\"\n",
    "answer = input(\"is it raining? yes/no: \")\n",
    "if answer == 'no':\n",
    "    print(\"You can go outside.\")\n",
    "else:\n",
    "    print(\"You should stay inside.\")"
   ]
  },
  {
   "cell_type": "code",
   "execution_count": 7,
   "id": "769adc91-f52b-4e3a-ba7c-426d337fed10",
   "metadata": {},
   "outputs": [
    {
     "name": "stdin",
     "output_type": "stream",
     "text": [
      "enter grade (0-100) 79\n"
     ]
    },
    {
     "name": "stdout",
     "output_type": "stream",
     "text": [
      "Pass\n"
     ]
    }
   ],
   "source": [
    "#5 Write a program that asks the user for a grade (0-100). If the grade is 60 or above, print \"Pass\". Otherwise, print \"Fail\".\n",
    "grade = int(input(\"enter grade (0-100)\"))\n",
    "if grade >=60:\n",
    "    print(\"Pass\")\n",
    "else:\n",
    "    print(\"Fail\")"
   ]
  },
  {
   "cell_type": "code",
   "execution_count": 12,
   "id": "4586e91a-fafc-40db-bcab-f1fff68b1618",
   "metadata": {},
   "outputs": [
    {
     "name": "stdin",
     "output_type": "stream",
     "text": [
      "enter number 300\n"
     ]
    },
    {
     "name": "stdout",
     "output_type": "stream",
     "text": [
      "The number is positive\n"
     ]
    }
   ],
   "source": [
    "#6 Create a program that asks the user for a number. If the number is positive, print \"The number is positive.\" \n",
    "#If the number is zero, print \"The number is zero.\" If the number is negative, print \"The number is negative.\"\n",
    "number = int(input('enter number'))\n",
    "if number > 0:\n",
    "    print(\"The number is positive\")\n",
    "elif number == 0:\n",
    "    print(\"The number is zero\")\n",
    "else:\n",
    "    print(\"The number is negative\")"
   ]
  },
  {
   "cell_type": "code",
   "execution_count": 19,
   "id": "3eb2324c-99a6-4d5f-92b5-396457dc1023",
   "metadata": {},
   "outputs": [
    {
     "name": "stdin",
     "output_type": "stream",
     "text": [
      "enter year 2024\n"
     ]
    },
    {
     "name": "stdout",
     "output_type": "stream",
     "text": [
      "leap year\n"
     ]
    }
   ],
   "source": [
    "#7 Write a program to check if a given year is a leap year. \n",
    "#A year is a leap year if it is divisible by 4 but not by 100, except if it is also divisible by 400.\n",
    "year = int(input(\"enter year\"))\n",
    "if year%4 == 0:\n",
    "    if year%100 == 0:\n",
    "        if year%400 == 0:\n",
    "            print(\"leap year\")\n",
    "        else:\n",
    "            print('not leap year')\n",
    "    else:\n",
    "        print('leap year')\n",
    "    "
   ]
  },
  {
   "cell_type": "markdown",
   "id": "577bda8b-14db-462a-a5fd-2375f950bccf",
   "metadata": {},
   "source": [
    "## optional part"
   ]
  },
  {
   "cell_type": "markdown",
   "id": "043c9961-af0a-4d2c-ba0a-967b156e0eb6",
   "metadata": {},
   "source": [
    "### 1 Grade Categories\n",
    "\n",
    "- Write a program that asks the user for their grade (0-100). Print the following based on the input:\n",
    "- \"A\" for grades 90 and above\n",
    "- \"B\" for grades 80-89\n",
    "- \"C\" for grades 70-79\n",
    "- \"D\" for grades 60-69\n",
    "- \"F\" for grades below 60"
   ]
  },
  {
   "cell_type": "code",
   "execution_count": null,
   "id": "792e9ecc-a5b9-40c1-9979-042b5857a9bb",
   "metadata": {},
   "outputs": [],
   "source": [
    "grade = int(input('enter grade:'))\n",
    "if grade < 60:\n",
    "    print('F')\n",
    "elif grade < 70:\n",
    "    print('D')\n",
    "elif grade < 80:\n",
    "    print('C')\n",
    "elif grade < 90:\n",
    "    print('B')\n",
    "else:\n",
    "    print ('A')\n",
    "        "
   ]
  },
  {
   "cell_type": "markdown",
   "id": "b1e63b84-650e-45c9-a42d-57fb178ab3af",
   "metadata": {},
   "source": [
    "###2 Divisibility Check\n",
    "\n",
    "Create a program that asks the user for a number. If the number is divisible by both 3 and 5, print \"FizzBuzz\". If it is only divisible by 3, print \"Fizz\". If it is only divisible by 5, print \"Buzz\". Otherwise, print the number."
   ]
  },
  {
   "cell_type": "code",
   "execution_count": 33,
   "id": "001bba8f-e79a-4c2e-9106-2519a069eaa9",
   "metadata": {},
   "outputs": [
    {
     "name": "stdin",
     "output_type": "stream",
     "text": [
      "enter number 12\n"
     ]
    },
    {
     "name": "stdout",
     "output_type": "stream",
     "text": [
      "12\n"
     ]
    }
   ],
   "source": [
    "number = int(input('enter number'))\n",
    "if number%3==0:\n",
    "    if number%5==0:\n",
    "        print('FizzBuzz')\n",
    "    else:\n",
    "        print('Fizz')\n",
    "elif number%5==0:\n",
    "    if number%3==0:\n",
    "        print ('FizzBuzz')\n",
    "    else:\n",
    "        print('Buzz')\n",
    "else:\n",
    "    print(number)"
   ]
  },
  {
   "cell_type": "code",
   "execution_count": null,
   "id": "d4e72bfc-8667-42ac-b694-e8cd71d253ab",
   "metadata": {},
   "outputs": [],
   "source": []
  }
 ],
 "metadata": {
  "kernelspec": {
   "display_name": "Python 3 (ipykernel)",
   "language": "python",
   "name": "python3"
  },
  "language_info": {
   "codemirror_mode": {
    "name": "ipython",
    "version": 3
   },
   "file_extension": ".py",
   "mimetype": "text/x-python",
   "name": "python",
   "nbconvert_exporter": "python",
   "pygments_lexer": "ipython3",
   "version": "3.11.5"
  }
 },
 "nbformat": 4,
 "nbformat_minor": 5
}
