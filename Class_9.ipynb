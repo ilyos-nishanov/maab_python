{
 "cells": [
  {
   "cell_type": "markdown",
   "id": "91370f61",
   "metadata": {},
   "source": [
    "## Exception handling and working with files"
   ]
  },
  {
   "cell_type": "code",
   "execution_count": 4,
   "id": "f9bd68b7",
   "metadata": {},
   "outputs": [],
   "source": [
    "fhandle = open('sample.txt', 'r')"
   ]
  },
  {
   "cell_type": "code",
   "execution_count": 5,
   "id": "08954dcc",
   "metadata": {},
   "outputs": [
    {
     "name": "stdout",
     "output_type": "stream",
     "text": [
      "['Jack', 'had', 'a', 'sparrow']\n",
      "['That', 'Johan', 'wanted', 'to', 'borrow']\n",
      "['Willy', 'shagged', 'the', 'sheep']\n",
      "['Michael', 'was', 'complete']\n"
     ]
    }
   ],
   "source": [
    "for line in fhandle:\n",
    "    word = line.split()\n",
    "    print(word)"
   ]
  },
  {
   "cell_type": "code",
   "execution_count": 8,
   "id": "3db465f6",
   "metadata": {},
   "outputs": [
    {
     "name": "stdout",
     "output_type": "stream",
     "text": [
      "Jack had a sparrow\n",
      "That Johan wanted to borrow\n",
      "Willy shagged the sheep\n",
      "Michael was complete\n",
      "<class 'str'>\n"
     ]
    }
   ],
   "source": [
    "with open('sample.txt') as txt_file:\n",
    "    data = txt_file.read()\n",
    "    print(data)\n",
    "    print(type(data))"
   ]
  },
  {
   "cell_type": "code",
   "execution_count": 9,
   "id": "19647c9a",
   "metadata": {},
   "outputs": [
    {
     "name": "stdout",
     "output_type": "stream",
     "text": [
      "Jack had a sparrow\n",
      "\n",
      "That Johan wanted to borrow\n",
      "\n",
      "Willy shagged the sheep\n",
      "\n",
      "Michael was complete\n"
     ]
    }
   ],
   "source": [
    "with open('sample.txt') as txt_file:\n",
    "    for i in txt_file:\n",
    "        print(i)"
   ]
  },
  {
   "cell_type": "code",
   "execution_count": 11,
   "id": "b7fec030",
   "metadata": {},
   "outputs": [
    {
     "name": "stdout",
     "output_type": "stream",
     "text": [
      "Jack had a sparrow\n",
      "That Johan wanted to borrow\n",
      "Willy shagged the sheep\n",
      "Michael was complete\n"
     ]
    }
   ],
   "source": [
    "with open('sample.txt') as txt_file:\n",
    "    data = txt_file.readlines()\n",
    "    for i in data:\n",
    "        print(i.replace('\\n',''))"
   ]
  },
  {
   "cell_type": "code",
   "execution_count": 13,
   "id": "3bf85c89",
   "metadata": {},
   "outputs": [],
   "source": [
    "#create a new file\n",
    "with open('newfile.txt', 'w') as new_file:\n",
    "    new_file.write('Hi\\n')"
   ]
  },
  {
   "cell_type": "code",
   "execution_count": 14,
   "id": "e979b0ff",
   "metadata": {},
   "outputs": [],
   "source": [
    "#write to existing file\n",
    "with open('newfile.txt', 'w') as new_file:\n",
    "    new_file.write('Hello')"
   ]
  },
  {
   "cell_type": "code",
   "execution_count": 22,
   "id": "5c8ac946",
   "metadata": {},
   "outputs": [],
   "source": [
    "# O(n)\n",
    "def write_to(name: str, word: str,n: int):\n",
    "    with open(name, 'w') as new_file:\n",
    "        for i in range(n):\n",
    "            new_file.write(word+'\\n')\n",
    "        \n",
    "        \n",
    "write_to('new_file.txt','John', 5)"
   ]
  },
  {
   "cell_type": "code",
   "execution_count": 23,
   "id": "fc8533ae",
   "metadata": {},
   "outputs": [],
   "source": [
    "# O(1)\n",
    "def write_to(name: str, word: str,n: int):\n",
    "    with open(name, 'w') as new_file:\n",
    "        new_file.write(f\"{word}\\n\"*n)\n",
    "        \n",
    "        \n",
    "write_to('new_file.txt','John', 5)"
   ]
  },
  {
   "cell_type": "markdown",
   "id": "635fc7ed",
   "metadata": {},
   "source": [
    "### try except"
   ]
  },
  {
   "cell_type": "code",
   "execution_count": 28,
   "id": "19dbae4d",
   "metadata": {},
   "outputs": [
    {
     "name": "stdout",
     "output_type": "stream",
     "text": [
      "division by zero\n"
     ]
    }
   ],
   "source": [
    "age =13\n",
    "try:\n",
    "    print(age/0)\n",
    "except ZeroDivisionError as error:\n",
    "    print(error)\n",
    "    with open('log.txt', 'w') as log:\n",
    "        log.write('error')"
   ]
  },
  {
   "cell_type": "code",
   "execution_count": 29,
   "id": "e2b5bc70",
   "metadata": {},
   "outputs": [
    {
     "name": "stdout",
     "output_type": "stream",
     "text": [
      "John\n"
     ]
    }
   ],
   "source": [
    "info = {\"name\": \"John\", \"age\": 19}\n",
    "\n",
    "try:\n",
    "    print(info[\"name\"])\n",
    "except Exception as k:\n",
    "    print(k)"
   ]
  },
  {
   "cell_type": "code",
   "execution_count": 38,
   "id": "5c0bb29d",
   "metadata": {},
   "outputs": [],
   "source": [
    "#\n",
    "def logging(info: str, message: str):\n",
    "    with open('new_log', 'a+') as new_log:\n",
    "        new_log.write(f\"{info} - {message}\\n\")\n",
    "        \n",
    "        \n",
    "logging('Error', 'You messed up again')"
   ]
  },
  {
   "cell_type": "markdown",
   "id": "2fd6b408",
   "metadata": {},
   "source": [
    "### raise"
   ]
  },
  {
   "cell_type": "code",
   "execution_count": 40,
   "id": "58e9684a",
   "metadata": {},
   "outputs": [
    {
     "ename": "IndexError",
     "evalue": "Wrong",
     "output_type": "error",
     "traceback": [
      "\u001b[0;31m---------------------------------------------------------------------------\u001b[0m",
      "\u001b[0;31mIndexError\u001b[0m                                Traceback (most recent call last)",
      "Cell \u001b[0;32mIn[40], line 7\u001b[0m\n\u001b[1;32m      5\u001b[0m age \u001b[38;5;241m=\u001b[39m\u001b[38;5;241m18\u001b[39m\n\u001b[1;32m      6\u001b[0m \u001b[38;5;28;01mif\u001b[39;00m age\u001b[38;5;241m<\u001b[39m\u001b[38;5;241m20\u001b[39m:\n\u001b[0;32m----> 7\u001b[0m     \u001b[38;5;28;01mraise\u001b[39;00m \u001b[38;5;167;01mIndexError\u001b[39;00m(\u001b[38;5;124m\"\u001b[39m\u001b[38;5;124mWrong\u001b[39m\u001b[38;5;124m\"\u001b[39m)\n",
      "\u001b[0;31mIndexError\u001b[0m: Wrong"
     ]
    }
   ],
   "source": [
    "# from math import sqrt\n",
    "# import math.sqrt\n",
    "\n",
    "#module is a directory consisting of packages\n",
    "age =18\n",
    "if age<20:\n",
    "    raise IndexError(\"Wrong\")"
   ]
  },
  {
   "cell_type": "code",
   "execution_count": null,
   "id": "4b37d39a",
   "metadata": {},
   "outputs": [],
   "source": []
  }
 ],
 "metadata": {
  "kernelspec": {
   "display_name": "Python 3 (ipykernel)",
   "language": "python",
   "name": "python3"
  },
  "language_info": {
   "codemirror_mode": {
    "name": "ipython",
    "version": 3
   },
   "file_extension": ".py",
   "mimetype": "text/x-python",
   "name": "python",
   "nbconvert_exporter": "python",
   "pygments_lexer": "ipython3",
   "version": "3.11.5"
  }
 },
 "nbformat": 4,
 "nbformat_minor": 5
}
