{
 "cells": [
  {
   "cell_type": "markdown",
   "id": "c8e8f7f0",
   "metadata": {},
   "source": [
    "## tuple excercises"
   ]
  },
  {
   "cell_type": "code",
   "execution_count": 6,
   "id": "1b3b28c9",
   "metadata": {},
   "outputs": [
    {
     "data": {
      "text/plain": [
       "tuple"
      ]
     },
     "execution_count": 6,
     "metadata": {},
     "output_type": "execute_result"
    }
   ],
   "source": [
    "#1 Create a tuple literal named cardinal_numbers that holds the strings \"first\", \"second\", and \"third\", in that order\n",
    "cardinal_numbers = 'first', 'second', 'third'\n",
    "type(cardinal_numbers)"
   ]
  },
  {
   "cell_type": "code",
   "execution_count": 7,
   "id": "9245b1fe",
   "metadata": {},
   "outputs": [
    {
     "name": "stdout",
     "output_type": "stream",
     "text": [
      "second\n"
     ]
    }
   ],
   "source": [
    "#2 Using index notation and print(), display the string at index 1 in cardinal_numbers\n",
    "print(cardinal_numbers[1])"
   ]
  },
  {
   "cell_type": "code",
   "execution_count": 15,
   "id": "12051487",
   "metadata": {},
   "outputs": [
    {
     "name": "stdout",
     "output_type": "stream",
     "text": [
      "first,\n",
      "second,\n",
      "third\n"
     ]
    }
   ],
   "source": [
    "#3 In a single line of code, unpack the values in cardinal_numbers into three new strings \n",
    "# named position1, position2, and position3. Then print each value on a separate line.\n",
    "\n",
    "position1, position2, position3 = cardinal_numbers\n",
    "print(f\"{position1},\\n{position2},\\n{position3}\")"
   ]
  },
  {
   "cell_type": "code",
   "execution_count": 17,
   "id": "0e581705",
   "metadata": {},
   "outputs": [
    {
     "data": {
      "text/plain": [
       "('I', 'l', 'y', 'o', 's')"
      ]
     },
     "execution_count": 17,
     "metadata": {},
     "output_type": "execute_result"
    }
   ],
   "source": [
    "#4 Using tuple() and a string literal, create a tuple called my_name that contains the letters of your name\n",
    "my_name = tuple(\"Ilyos\")\n",
    "my_name"
   ]
  },
  {
   "cell_type": "code",
   "execution_count": 18,
   "id": "9b41cb26",
   "metadata": {},
   "outputs": [
    {
     "data": {
      "text/plain": [
       "False"
      ]
     },
     "execution_count": 18,
     "metadata": {},
     "output_type": "execute_result"
    }
   ],
   "source": [
    "#5 Check whether the character \"x\" is in my_name using the in keyword\n",
    "\"x\" in my_name"
   ]
  },
  {
   "cell_type": "code",
   "execution_count": 19,
   "id": "60516fe3",
   "metadata": {},
   "outputs": [
    {
     "data": {
      "text/plain": [
       "('l', 'y', 'o', 's')"
      ]
     },
     "execution_count": 19,
     "metadata": {},
     "output_type": "execute_result"
    }
   ],
   "source": [
    "#6 Create a new tuple containing all but the first letter in my_name using slice notation\n",
    "not_my_name = my_name[1:]\n",
    "not_my_name"
   ]
  },
  {
   "cell_type": "markdown",
   "id": "8e3bc501",
   "metadata": {},
   "source": [
    "## dictionary excercises"
   ]
  },
  {
   "cell_type": "code",
   "execution_count": 20,
   "id": "2b794919",
   "metadata": {},
   "outputs": [
    {
     "data": {
      "text/plain": [
       "{'name': 'Ilyosjon',\n",
       " 'age': 37,\n",
       " 'courses': ['SQL',\n",
       "  'Python',\n",
       "  'Apache Hadoop',\n",
       "  'Apache Airflow',\n",
       "  'Apache Kafka']}"
      ]
     },
     "execution_count": 20,
     "metadata": {},
     "output_type": "execute_result"
    }
   ],
   "source": [
    "#1 Create a dictionary named student with the keys \"name\", \"age\", and \"courses\". \n",
    "#The values should be your name, your age, and a list of your courses\n",
    "\n",
    "student = {\n",
    "    \"name\": \"Ilyosjon\",\n",
    "    \"age\":37,\n",
    "    \"courses\": ['SQL', 'Python', 'Apache Hadoop', 'Apache Airflow', 'Apache Kafka']\n",
    "}\n",
    "student"
   ]
  },
  {
   "cell_type": "code",
   "execution_count": 21,
   "id": "9fdd7f30",
   "metadata": {},
   "outputs": [
    {
     "data": {
      "text/plain": [
       "'Ilyosjon'"
      ]
     },
     "execution_count": 21,
     "metadata": {},
     "output_type": "execute_result"
    }
   ],
   "source": [
    "#2 access 'name' key\n",
    "student['name']"
   ]
  },
  {
   "cell_type": "code",
   "execution_count": 22,
   "id": "ba05333b",
   "metadata": {},
   "outputs": [],
   "source": [
    "#3 Add a new key-value pair to the student dictionary with the key\n",
    "# \"grade\" and a value of your grade in one of the courses\n",
    "student['grade']= {\n",
    "    'Apache Hadoop': 100,\n",
    "    'Apache Airflow':99,\n",
    "    'Apache Kafka':98\n",
    "}"
   ]
  },
  {
   "cell_type": "code",
   "execution_count": 23,
   "id": "3e8dee45",
   "metadata": {},
   "outputs": [
    {
     "data": {
      "text/plain": [
       "{'name': 'Ilyosjon',\n",
       " 'age': 37,\n",
       " 'courses': ['SQL',\n",
       "  'Python',\n",
       "  'Apache Hadoop',\n",
       "  'Apache Airflow',\n",
       "  'Apache Kafka'],\n",
       " 'grade': {'Apache Hadoop': 100, 'Apache Airflow': 99, 'Apache Kafka': 98}}"
      ]
     },
     "execution_count": 23,
     "metadata": {},
     "output_type": "execute_result"
    }
   ],
   "source": [
    "student"
   ]
  },
  {
   "cell_type": "code",
   "execution_count": 31,
   "id": "5260d31e",
   "metadata": {},
   "outputs": [
    {
     "data": {
      "text/plain": [
       "dict"
      ]
     },
     "execution_count": 31,
     "metadata": {},
     "output_type": "execute_result"
    }
   ],
   "source": [
    "type(student['grade'])"
   ]
  },
  {
   "cell_type": "code",
   "execution_count": 32,
   "id": "a361da5e",
   "metadata": {},
   "outputs": [
    {
     "data": {
      "text/plain": [
       "{'name': 'Ilyosjon',\n",
       " 'age': 38,\n",
       " 'courses': ['SQL',\n",
       "  'Python',\n",
       "  'Apache Hadoop',\n",
       "  'Apache Airflow',\n",
       "  'Apache Kafka'],\n",
       " 'grade': {'Apache Hadoop': 100, 'Apache Airflow': 99, 'Apache Kafka': 98}}"
      ]
     },
     "execution_count": 32,
     "metadata": {},
     "output_type": "execute_result"
    }
   ],
   "source": [
    "#4 Update the value associated with the key \"age\" in the student dictionary to a new value (e.g., next year's age)\n",
    "student[\"age\"]=38\n",
    "student"
   ]
  },
  {
   "cell_type": "code",
   "execution_count": 33,
   "id": "28a6d534",
   "metadata": {},
   "outputs": [
    {
     "data": {
      "text/plain": [
       "['__class__',\n",
       " '__class_getitem__',\n",
       " '__contains__',\n",
       " '__delattr__',\n",
       " '__delitem__',\n",
       " '__dir__',\n",
       " '__doc__',\n",
       " '__eq__',\n",
       " '__format__',\n",
       " '__ge__',\n",
       " '__getattribute__',\n",
       " '__getitem__',\n",
       " '__getstate__',\n",
       " '__gt__',\n",
       " '__hash__',\n",
       " '__init__',\n",
       " '__init_subclass__',\n",
       " '__ior__',\n",
       " '__iter__',\n",
       " '__le__',\n",
       " '__len__',\n",
       " '__lt__',\n",
       " '__ne__',\n",
       " '__new__',\n",
       " '__or__',\n",
       " '__reduce__',\n",
       " '__reduce_ex__',\n",
       " '__repr__',\n",
       " '__reversed__',\n",
       " '__ror__',\n",
       " '__setattr__',\n",
       " '__setitem__',\n",
       " '__sizeof__',\n",
       " '__str__',\n",
       " '__subclasshook__',\n",
       " 'clear',\n",
       " 'copy',\n",
       " 'fromkeys',\n",
       " 'get',\n",
       " 'items',\n",
       " 'keys',\n",
       " 'pop',\n",
       " 'popitem',\n",
       " 'setdefault',\n",
       " 'update',\n",
       " 'values']"
      ]
     },
     "execution_count": 33,
     "metadata": {},
     "output_type": "execute_result"
    }
   ],
   "source": [
    "#5 Remove the key \"courses\" from the student dictionary.\n",
    "dir(dict)"
   ]
  },
  {
   "cell_type": "code",
   "execution_count": 35,
   "id": "42571e8c",
   "metadata": {},
   "outputs": [
    {
     "data": {
      "text/plain": [
       "['SQL', 'Python', 'Apache Hadoop', 'Apache Airflow', 'Apache Kafka']"
      ]
     },
     "execution_count": 35,
     "metadata": {},
     "output_type": "execute_result"
    }
   ],
   "source": [
    "student.pop('courses')"
   ]
  },
  {
   "cell_type": "code",
   "execution_count": 36,
   "id": "6315d5ce",
   "metadata": {},
   "outputs": [
    {
     "data": {
      "text/plain": [
       "{'name': 'Ilyosjon',\n",
       " 'age': 38,\n",
       " 'grade': {'Apache Hadoop': 100, 'Apache Airflow': 99, 'Apache Kafka': 98}}"
      ]
     },
     "execution_count": 36,
     "metadata": {},
     "output_type": "execute_result"
    }
   ],
   "source": [
    "student"
   ]
  },
  {
   "cell_type": "code",
   "execution_count": 38,
   "id": "3e3dd2e9",
   "metadata": {},
   "outputs": [
    {
     "data": {
      "text/plain": [
       "3"
      ]
     },
     "execution_count": 38,
     "metadata": {},
     "output_type": "execute_result"
    }
   ],
   "source": [
    "#6 Print the number of key-value pairs in the student dictionary using len()\n",
    "len(student)"
   ]
  },
  {
   "cell_type": "code",
   "execution_count": null,
   "id": "a7db4a43",
   "metadata": {},
   "outputs": [],
   "source": []
  }
 ],
 "metadata": {
  "kernelspec": {
   "display_name": "Python 3 (ipykernel)",
   "language": "python",
   "name": "python3"
  },
  "language_info": {
   "codemirror_mode": {
    "name": "ipython",
    "version": 3
   },
   "file_extension": ".py",
   "mimetype": "text/x-python",
   "name": "python",
   "nbconvert_exporter": "python",
   "pygments_lexer": "ipython3",
   "version": "3.11.5"
  }
 },
 "nbformat": 4,
 "nbformat_minor": 5
}
