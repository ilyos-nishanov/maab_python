{
 "cells": [
  {
   "cell_type": "markdown",
   "id": "fd877d7e-45db-4969-afd2-73a6f4ecf1a7",
   "metadata": {},
   "source": [
    "### functions basic exercises"
   ]
  },
  {
   "cell_type": "code",
   "execution_count": 1,
   "id": "0dfe924b-5fd8-4910-9690-44047fae42fa",
   "metadata": {},
   "outputs": [
    {
     "name": "stdout",
     "output_type": "stream",
     "text": [
      "hello ilyos\n"
     ]
    }
   ],
   "source": [
    "#Write a function greet that takes a name as an argument and prints \"Hello, [name]!\".\n",
    "def greet(name):\n",
    "    print('hello',name)\n",
    "greet('ilyos')"
   ]
  },
  {
   "cell_type": "code",
   "execution_count": 2,
   "id": "4a22d5c9-236a-4962-8b86-2f130416aaf1",
   "metadata": {},
   "outputs": [
    {
     "data": {
      "text/plain": [
       "4"
      ]
     },
     "execution_count": 2,
     "metadata": {},
     "output_type": "execute_result"
    }
   ],
   "source": [
    "#Write a function sum_numbers that takes two numbers as arguments and returns their sum.\n",
    "def sum_num(a,b):\n",
    "    return a+b\n",
    "sum_num(1,3)"
   ]
  },
  {
   "cell_type": "code",
   "execution_count": 3,
   "id": "3280bdf8-a0fb-45d6-98f7-0c25eaa09196",
   "metadata": {},
   "outputs": [
    {
     "data": {
      "text/plain": [
       "16"
      ]
     },
     "execution_count": 3,
     "metadata": {},
     "output_type": "execute_result"
    }
   ],
   "source": [
    "#Write a function square that takes a number as an argument and returns its square.\n",
    "def square(n):\n",
    "    return(n**2)\n",
    "\n",
    "square(4)"
   ]
  },
  {
   "cell_type": "code",
   "execution_count": 6,
   "id": "7e6fe065-921f-4db5-81cf-50cd6d3911dc",
   "metadata": {},
   "outputs": [
    {
     "data": {
      "text/plain": [
       "[1, 4, 9, 16]"
      ]
     },
     "execution_count": 6,
     "metadata": {},
     "output_type": "execute_result"
    }
   ],
   "source": [
    "#Write a function list_of_squares that takes a list of numbers and returns a new list with the squares of those numbers.\n",
    "def list_of_squares(items):\n",
    "    squares = []\n",
    "    for item in items:\n",
    "        squares.append(item**2)\n",
    "    return(squares)\n",
    "\n",
    "list_of_squares([1,2,3,4])"
   ]
  },
  {
   "cell_type": "code",
   "execution_count": 8,
   "id": "2c2bbc78-4b5b-4665-9302-f57ddffb6276",
   "metadata": {},
   "outputs": [
    {
     "data": {
      "text/plain": [
       "120"
      ]
     },
     "execution_count": 8,
     "metadata": {},
     "output_type": "execute_result"
    }
   ],
   "source": [
    "#Write a function factorial that takes a number as an argument and returns its factorial.\n",
    "def factorial(number):\n",
    "    if number <2:\n",
    "        return 1\n",
    "    else:\n",
    "        return number*factorial(number-1)\n",
    "\n",
    "factorial(5)"
   ]
  },
  {
   "cell_type": "code",
   "execution_count": 11,
   "id": "961dd6da-e7f4-4f3d-9d76-320a44aaccf7",
   "metadata": {},
   "outputs": [
    {
     "data": {
      "text/plain": [
       "True"
      ]
     },
     "execution_count": 11,
     "metadata": {},
     "output_type": "execute_result"
    }
   ],
   "source": [
    "#Write a function is_palindrome that takes a string and returns True if the string is a palindrome and False otherwise.\n",
    "def is_palindrome(string):\n",
    "    if string == string[::-1]:\n",
    "        return True\n",
    "    else:\n",
    "        return False\n",
    "\n",
    "is_palindrome('tenet')"
   ]
  },
  {
   "cell_type": "code",
   "execution_count": 31,
   "id": "aed4e14f-3371-4acd-b061-b90ff0eb28c6",
   "metadata": {},
   "outputs": [
    {
     "data": {
      "text/plain": [
       "6"
      ]
     },
     "execution_count": 31,
     "metadata": {},
     "output_type": "execute_result"
    }
   ],
   "source": [
    "(lambda x : x * 2)(3)"
   ]
  },
  {
   "cell_type": "code",
   "execution_count": 19,
   "id": "4d19aa60-7031-4543-8025-5b33fda174fe",
   "metadata": {},
   "outputs": [
    {
     "data": {
      "text/plain": [
       "16"
      ]
     },
     "execution_count": 19,
     "metadata": {},
     "output_type": "execute_result"
    }
   ],
   "source": [
    "#Write a lambda function that takes a number and returns its square. Assign it to a variable named square_lambda.\n",
    "square_lambda = (lambda x: x**2)\n",
    "square_lambda(4)"
   ]
  },
  {
   "cell_type": "code",
   "execution_count": 20,
   "id": "1f9ee3c3-f381-43f1-89c0-2e323bc45b6b",
   "metadata": {},
   "outputs": [
    {
     "data": {
      "text/plain": [
       "5"
      ]
     },
     "execution_count": 20,
     "metadata": {},
     "output_type": "execute_result"
    }
   ],
   "source": [
    "#Write a lambda function that takes two numbers and returns their sum. Assign it to a variable named sum_lambda\n",
    "sum_lambda = (lambda x,y: x+y)\n",
    "sum_lambda(2,3)"
   ]
  },
  {
   "cell_type": "code",
   "execution_count": 33,
   "id": "6d6743f9-bc09-47e8-8389-4417e6e56ac6",
   "metadata": {},
   "outputs": [
    {
     "data": {
      "text/plain": [
       "[2, 4, 6, 8, 10]"
      ]
     },
     "execution_count": 33,
     "metadata": {},
     "output_type": "execute_result"
    }
   ],
   "source": [
    "#Use a lambda function with the filter function to filter out even numbers from a list of numbers.\n",
    "numbers = [1, 2, 3, 4, 5, 6, 7, 8, 9, 10]\n",
    "list(filter(lambda x: x%2==0, numbers))"
   ]
  },
  {
   "cell_type": "code",
   "execution_count": 41,
   "id": "5b38cad8-a2e8-4e12-8bad-0c2019bf70dc",
   "metadata": {},
   "outputs": [
    {
     "data": {
      "text/plain": [
       "[5, 6, 6]"
      ]
     },
     "execution_count": 41,
     "metadata": {},
     "output_type": "execute_result"
    }
   ],
   "source": [
    "#Use a lambda function with the map function to convert a list of strings into a list of their lengths.\n",
    "words = [\"apple\", \"banana\", \"cherry\"]\n",
    "list(map(lambda x: len(x), words))"
   ]
  },
  {
   "cell_type": "code",
   "execution_count": 49,
   "id": "ed7ce31d-5514-413c-a3a8-9c63eeae4526",
   "metadata": {},
   "outputs": [
    {
     "data": {
      "text/plain": [
       "[(1, 'one'), (5, 'three'), (3, 'two')]"
      ]
     },
     "execution_count": 49,
     "metadata": {},
     "output_type": "execute_result"
    }
   ],
   "source": [
    "#Use a lambda function with the sorted function to sort a list of tuples based on the second element of each tuple.\n",
    "tuples = [(1, 'one'), (3, 'two'), (5, 'three')]\n",
    "list(sorted(tuples, key=lambda x: x[1]))"
   ]
  },
  {
   "cell_type": "code",
   "execution_count": 55,
   "id": "94f14c5d-6b58-446c-9090-1a8aea5fa4eb",
   "metadata": {},
   "outputs": [
    {
     "data": {
      "text/plain": [
       "'Even'"
      ]
     },
     "execution_count": 55,
     "metadata": {},
     "output_type": "execute_result"
    }
   ],
   "source": [
    "#Write a lambda function that takes a number and returns \"Even\" if the number is even and \"Odd\" if the number is odd. \n",
    "#Assign it to a variable named even_odd_lambda.\n",
    "even_odd_lambda = (lambda x: 'Even' if x%2 == 0 else 'Odd')\n",
    "even_odd_lambda(4)"
   ]
  },
  {
   "cell_type": "code",
   "execution_count": 56,
   "id": "768dde1d-dc37-4047-889f-23d43fe794d8",
   "metadata": {},
   "outputs": [
    {
     "data": {
      "text/plain": [
       "5"
      ]
     },
     "execution_count": 56,
     "metadata": {},
     "output_type": "execute_result"
    }
   ],
   "source": [
    "#Write a function fibonacci that takes a number n and returns a list of the first n Fibonacci numbers.\n",
    "def fib(n):\n",
    "    if n<3:\n",
    "        return 1\n",
    "    else:\n",
    "        return fib(n-1)+fib(n-2)\n",
    "fib(5)"
   ]
  },
  {
   "cell_type": "code",
   "execution_count": 102,
   "id": "a9ae38f1-83dc-4216-90c4-7289fe32ead9",
   "metadata": {},
   "outputs": [
    {
     "data": {
      "text/plain": [
       "True"
      ]
     },
     "execution_count": 102,
     "metadata": {},
     "output_type": "execute_result"
    }
   ],
   "source": [
    "#Write a function is_prime that takes a number and returns True if the number is prime and False otherwise.\n",
    "def is_prime(n):\n",
    "    for i in range(2,n):\n",
    "        # print(n%i)\n",
    "        if n%i == 0:\n",
    "            return False\n",
    "            break\n",
    "    return True\n",
    "\n",
    "is_prime(31)"
   ]
  },
  {
   "cell_type": "code",
   "execution_count": 105,
   "id": "cbecd549-777c-4140-9545-77c1196c6eb5",
   "metadata": {},
   "outputs": [
    {
     "data": {
      "text/plain": [
       "[2, 3, 5, 7, 11, 13, 17, 19, 23, 29]"
      ]
     },
     "execution_count": 105,
     "metadata": {},
     "output_type": "execute_result"
    }
   ],
   "source": [
    "#Write a function list_of_primes that takes a number n and returns a list of all prime numbers up to n\n",
    "def list_of_primes(num):\n",
    "    return [n for n in range(2, num+1) if is_prime(n)]\n",
    "list_of_primes(30)"
   ]
  },
  {
   "cell_type": "code",
   "execution_count": 109,
   "id": "823716cc-4ec4-49de-9caf-cd5a0f488849",
   "metadata": {},
   "outputs": [
    {
     "ename": "SyntaxError",
     "evalue": "expected 'else' after 'if' expression (2911991175.py, line 4)",
     "output_type": "error",
     "traceback": [
      "\u001b[0;36m  Cell \u001b[0;32mIn[109], line 4\u001b[0;36m\u001b[0m\n\u001b[0;31m    fizzbuzz_lambda = lambda a, b, c: a if x%3 == 0 and x%5==0 else b if x%3 == 0 else c if x%5 == 0\u001b[0m\n\u001b[0m                                                                                       ^\u001b[0m\n\u001b[0;31mSyntaxError\u001b[0m\u001b[0;31m:\u001b[0m expected 'else' after 'if' expression\n"
     ]
    }
   ],
   "source": [
    "#Write a lambda function that takes a number and returns \n",
    "#\"Fizz\" if it is divisible by 3, \"Buzz\" if it is divisible by 5, and \n",
    "#\"FizzBuzz\" if it is divisible by both. Assign it to a variable named fizzbuzz_lambda\n",
    "fizzbuzz_lambda = lambda a, b, c: a if x%3 == 0 and x%5==0 else b if x%3 == 0 else c if x%5 == 0\n",
    "fizzbuzz_lambda(15)"
   ]
  },
  {
   "cell_type": "code",
   "execution_count": null,
   "id": "b6582bdb-2230-4e0a-8738-cd81d96b3b3f",
   "metadata": {},
   "outputs": [],
   "source": []
  }
 ],
 "metadata": {
  "kernelspec": {
   "display_name": "Python 3 (ipykernel)",
   "language": "python",
   "name": "python3"
  },
  "language_info": {
   "codemirror_mode": {
    "name": "ipython",
    "version": 3
   },
   "file_extension": ".py",
   "mimetype": "text/x-python",
   "name": "python",
   "nbconvert_exporter": "python",
   "pygments_lexer": "ipython3",
   "version": "3.11.5"
  }
 },
 "nbformat": 4,
 "nbformat_minor": 5
}
