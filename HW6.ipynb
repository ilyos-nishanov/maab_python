{
 "cells": [
  {
   "cell_type": "markdown",
   "id": "e2737483-6a1d-464b-9744-af633fab2d62",
   "metadata": {},
   "source": [
    "### Homework: Loops"
   ]
  },
  {
   "cell_type": "code",
   "execution_count": 5,
   "id": "c92d3fc8-3748-4b36-be3f-76ac3c90facf",
   "metadata": {},
   "outputs": [
    {
     "name": "stdout",
     "output_type": "stream",
     "text": [
      "1\n",
      "2\n",
      "3\n",
      "4\n",
      "5\n",
      "6\n",
      "7\n",
      "8\n",
      "9\n",
      "10\n"
     ]
    }
   ],
   "source": [
    "#1 Write a for loop to print numbers from 1 to 10.\n",
    "for i in range(10):\n",
    "    print(i+1)"
   ]
  },
  {
   "cell_type": "code",
   "execution_count": 7,
   "id": "49b0af1a-db91-46ff-a349-d5419aa5c8ef",
   "metadata": {},
   "outputs": [
    {
     "name": "stdout",
     "output_type": "stream",
     "text": [
      "15\n"
     ]
    }
   ],
   "source": [
    "#2 Given a list of numbers, [1, 2, 3, 4, 5], write a for loop to calculate and print the sum of the numbers.\n",
    "sum = 0\n",
    "for i in [1,2,3,4,5]:\n",
    "    sum += i\n",
    "print(sum)"
   ]
  },
  {
   "cell_type": "code",
   "execution_count": 11,
   "id": "174fefc3-c485-4509-b501-e77b3fb37ded",
   "metadata": {},
   "outputs": [
    {
     "name": "stdout",
     "output_type": "stream",
     "text": [
      "2\n",
      "4\n",
      "6\n",
      "8\n",
      "10\n",
      "12\n",
      "14\n",
      "16\n",
      "18\n",
      "20\n"
     ]
    }
   ],
   "source": [
    "#3 Write a for loop to print all the even numbers from 1 to 20.\n",
    "for i in range(0,20,2):\n",
    "    print (i+2)"
   ]
  },
  {
   "cell_type": "code",
   "execution_count": 13,
   "id": "e9ec1e5c-7a8e-4783-9faa-3b163a0aefe9",
   "metadata": {},
   "outputs": [
    {
     "name": "stdout",
     "output_type": "stream",
     "text": [
      "P\n",
      "y\n",
      "t\n",
      "h\n",
      "o\n",
      "n\n"
     ]
    }
   ],
   "source": [
    "#4 Write a for loop to iterate through the string \"Python\" and print each character.\n",
    "for i in \"Python\":\n",
    "    print(i)"
   ]
  },
  {
   "cell_type": "code",
   "execution_count": 16,
   "id": "7ec40457-c8e1-4c7d-bf72-e38b9006d741",
   "metadata": {},
   "outputs": [
    {
     "name": "stdout",
     "output_type": "stream",
     "text": [
      "5*1=5\n",
      "5*2=10\n",
      "5*3=15\n",
      "5*4=20\n",
      "5*5=25\n",
      "5*6=30\n",
      "5*7=35\n",
      "5*8=40\n",
      "5*9=45\n",
      "5*10=50\n"
     ]
    }
   ],
   "source": [
    "#5 Write a program to print the multiplication table of 5 using a for loop.\n",
    "for i in range(10):\n",
    "    print(f\"5*{i+1}={5*(i+1)}\")"
   ]
  },
  {
   "cell_type": "code",
   "execution_count": 24,
   "id": "63d40739-a807-4aac-8989-ef1d84aa95aa",
   "metadata": {},
   "outputs": [
    {
     "name": "stdout",
     "output_type": "stream",
     "text": [
      "olleh\n"
     ]
    }
   ],
   "source": [
    "#6 Write a for loop to reverse the string \"hello\" and print the reversed string.\n",
    "my_string = \"hello\"\n",
    "rev_str =\"\"\n",
    "for char in my_string:\n",
    "    rev_str = char + rev_str\n",
    "print(rev_str)"
   ]
  },
  {
   "cell_type": "code",
   "execution_count": 29,
   "id": "ca2b0af0-6768-4a2f-9245-056c90971da8",
   "metadata": {},
   "outputs": [
    {
     "name": "stdout",
     "output_type": "stream",
     "text": [
      "1\n",
      "2\n",
      "3\n",
      "4\n",
      "5\n",
      "6\n",
      "7\n",
      "8\n",
      "9\n",
      "10\n"
     ]
    }
   ],
   "source": [
    "#7 Write a while loop to print numbers from 1 to 10.\n",
    "num = 0\n",
    "while num < 10:\n",
    "    num +=1\n",
    "    print(num)"
   ]
  },
  {
   "cell_type": "code",
   "execution_count": 31,
   "id": "af5285ba-46fc-4d1f-b8b4-118ca94350dd",
   "metadata": {},
   "outputs": [
    {
     "name": "stdout",
     "output_type": "stream",
     "text": [
      "55\n"
     ]
    }
   ],
   "source": [
    "#8 Write a while loop to calculate and print the sum of numbers from 1 to 10.\n",
    "sum=0\n",
    "num=0\n",
    "while num<10:\n",
    "    num +=1\n",
    "    sum +=num\n",
    "print(sum)"
   ]
  },
  {
   "cell_type": "code",
   "execution_count": 40,
   "id": "6f94d86e-7669-44b9-bcfa-f03d398122d3",
   "metadata": {},
   "outputs": [
    {
     "name": "stdin",
     "output_type": "stream",
     "text": [
      "guess the number:  5\n",
      "guess the number:  4\n",
      "guess the number:  3\n"
     ]
    },
    {
     "name": "stdout",
     "output_type": "stream",
     "text": [
      "your guess 3 was correct\n"
     ]
    }
   ],
   "source": [
    "# 9 Create a simple guessing game using a while loop where the user has to guess a predefined number (e.g., 7). \n",
    "#The loop should continue until the user guesses the correct number.\n",
    "import random\n",
    "\n",
    "num = random.randint(1,10)\n",
    "guess = 0\n",
    "while num != guess:\n",
    "    guess = int(input(\"guess the number: \"))\n",
    "print(f\"your guess {guess} was correct\")"
   ]
  },
  {
   "cell_type": "code",
   "execution_count": 48,
   "id": "faa06bd8-91e9-4e34-98db-c5c9de41520e",
   "metadata": {},
   "outputs": [
    {
     "name": "stdin",
     "output_type": "stream",
     "text": [
      "enter number for factorial:  5\n"
     ]
    },
    {
     "name": "stdout",
     "output_type": "stream",
     "text": [
      "120\n",
      "120\n"
     ]
    }
   ],
   "source": [
    "#10 Write a program to calculate the factorial of a number using a while loop.\n",
    "n = int(input(\"enter number for factorial: \"))\n",
    "factorial = 1\n",
    "while n > 0:\n",
    "    factorial *= n\n",
    "    n -=1\n",
    "print(factorial)\n",
    "\n",
    "#using the for loop\n",
    "for i in range(1,n+1):\n",
    "    factorial *= i\n",
    "print(factorial)"
   ]
  },
  {
   "cell_type": "code",
   "execution_count": 49,
   "id": "be61de84-80bc-4322-93c2-12455dcb6c3f",
   "metadata": {},
   "outputs": [
    {
     "name": "stdout",
     "output_type": "stream",
     "text": [
      "10\n",
      "9\n",
      "8\n",
      "7\n",
      "6\n",
      "5\n",
      "4\n",
      "3\n",
      "2\n",
      "1\n",
      "Happy New Year!\n"
     ]
    }
   ],
   "source": [
    "#11 Write a while loop to count down from 10 to 1, and then print \"Happy New Year!\"\n",
    "countdown = 10\n",
    "while countdown > 0:\n",
    "    print(countdown)\n",
    "    countdown -= 1\n",
    "print(\"Happy New Year!\")"
   ]
  },
  {
   "cell_type": "code",
   "execution_count": 58,
   "id": "ef3fde46-a1db-41e6-a58a-c93d7641268f",
   "metadata": {},
   "outputs": [
    {
     "name": "stdin",
     "output_type": "stream",
     "text": [
      "enter number:  1234\n"
     ]
    },
    {
     "name": "stdout",
     "output_type": "stream",
     "text": [
      "10\n",
      "10\n"
     ]
    }
   ],
   "source": [
    "#12 Write a while loop to find the sum of the digits of a given number.\n",
    "num = input(\"enter number: \")\n",
    "sum = 0\n",
    "length = len(num)\n",
    "while length >0:\n",
    "    length -=1\n",
    "    sum += int(num[0])\n",
    "    num = num[1:]\n",
    "print(sum)\n",
    "\n",
    "#using a for loop\n",
    "for digit in num:\n",
    "    sum +=int(digit)\n",
    "print(sum)"
   ]
  },
  {
   "cell_type": "code",
   "execution_count": null,
   "id": "2df11186-5bd3-459e-bac9-622fa7bb40af",
   "metadata": {},
   "outputs": [],
   "source": []
  }
 ],
 "metadata": {
  "kernelspec": {
   "display_name": "Python 3 (ipykernel)",
   "language": "python",
   "name": "python3"
  },
  "language_info": {
   "codemirror_mode": {
    "name": "ipython",
    "version": 3
   },
   "file_extension": ".py",
   "mimetype": "text/x-python",
   "name": "python",
   "nbconvert_exporter": "python",
   "pygments_lexer": "ipython3",
   "version": "3.11.5"
  }
 },
 "nbformat": 4,
 "nbformat_minor": 5
}
