{
 "cells": [
  {
   "cell_type": "code",
   "execution_count": 8,
   "id": "5aaecf10-6fd8-4301-8153-8393d176a282",
   "metadata": {},
   "outputs": [
    {
     "data": {
      "text/plain": [
       "<__main__.Person at 0x112554450>"
      ]
     },
     "execution_count": 8,
     "metadata": {},
     "output_type": "execute_result"
    }
   ],
   "source": [
    "class Person:\n",
    "    def __init__(self, name, age):\n",
    "        self.n = name\n",
    "        self.a = age\n",
    "        \n",
    "    def __str__(self):     #this special method retuns what it returns when an object of this class is called\n",
    "        return f\"Name: {self.n}, age: {self.a}\"\n",
    "\n",
    "john = Person('john', 10)\n",
    "print(john)"
   ]
  },
  {
   "cell_type": "code",
   "execution_count": 4,
   "id": "fa577a07-0c79-4393-9f73-688291d48043",
   "metadata": {},
   "outputs": [
    {
     "data": {
      "text/plain": [
       "__main__.Person"
      ]
     },
     "execution_count": 4,
     "metadata": {},
     "output_type": "execute_result"
    }
   ],
   "source": [
    "type(john)"
   ]
  },
  {
   "cell_type": "code",
   "execution_count": 12,
   "id": "2ba3111e-dd6c-44c3-9e2b-344d11cfb986",
   "metadata": {},
   "outputs": [
    {
     "name": "stdout",
     "output_type": "stream",
     "text": [
      "Name: Ali, age: 11\n"
     ]
    }
   ],
   "source": [
    "class Student0(Person):\n",
    "    pass\n",
    "\n",
    "ali = Student('Ali', 11)\n",
    "print(ali)"
   ]
  },
  {
   "cell_type": "code",
   "execution_count": 70,
   "id": "a0dd54f1-4e63-4b0c-b92a-f99a7aae1c1a",
   "metadata": {},
   "outputs": [
    {
     "name": "stdout",
     "output_type": "stream",
     "text": [
      "Name: Vali, age: 12, id: 12, grades: [100, 99, 98], avg grade= 99.00\n"
     ]
    }
   ],
   "source": [
    "class Student1(Person):\n",
    "    def __init__(self, name: str, age: int, id: int, grades: list):\n",
    "        super().__init__(name, age)   #import attributes of parent class\n",
    "        self.id = id       #add additional attributes\n",
    "        self.grades = grades\n",
    "\n",
    "    def average_g(self):\n",
    "        return sum(self.grades)/len(self.grades) if self.grades else 0    #whatch how elegant this line is: true_outcome if true_condition else else_outcome\n",
    "\n",
    "    def __str__(self):\n",
    "        return f\"{super().__str__()}, id: {self.id}, grades: {self.grades}, avg grade= {self.average_g():.2f}\"\n",
    "\n",
    "vali = Student1(\"Vali\", 12, 12, [100, 99, 98])\n",
    "print(vali)"
   ]
  },
  {
   "cell_type": "code",
   "execution_count": 84,
   "id": "67d6e908-f7e5-4b0f-9a02-89326f1eae4d",
   "metadata": {},
   "outputs": [],
   "source": [
    "class StudentCRUDSys:\n",
    "    \n",
    "     \n",
    "    def __init__(self):\n",
    "        self.students = []\n",
    "\n",
    "    def add_student(self, student):\n",
    "        all_ids = [i.id for i in self.students]\n",
    "        if student.id in all_ids:\n",
    "            print('id already in students')\n",
    "            return\n",
    "        self.students.append(student)\n",
    "        print(f\"{student.n} added successfully\")\n",
    "\n",
    "    def view_students(self):\n",
    "        \n",
    "        if not self.students:\n",
    "            print('no students yet')\n",
    "            return\n",
    "        for student in self.students:\n",
    "            print(student)\n",
    "\n",
    "    def check_id(self, student_id):\n",
    "        all_ids = [i.id for i in self.students]\n",
    "        return True if student_id in all_ids else False\n",
    "\n",
    "    def update_student(self, id, name = None, age=None, grades = None):\n",
    "        student = [student for student in self.students if student.id == id][0]\n",
    "        if name:\n",
    "            student.name = name\n",
    "        if age:\n",
    "            student.age = age\n",
    "        if grades:\n",
    "            student.grades = grades\n",
    "                \n",
    "\n",
    "    \n",
    "        \n",
    "        "
   ]
  },
  {
   "cell_type": "code",
   "execution_count": null,
   "id": "77448c44-7e2b-41f1-a41d-e18a6ca55e75",
   "metadata": {},
   "outputs": [
    {
     "name": "stdout",
     "output_type": "stream",
     "text": [
      "\n",
      "Students CRUD\n",
      "\n",
      " 1 Add Student\n",
      "\n",
      " 2 View Students\n",
      "\n",
      " 3 Update Student\n",
      "\n",
      " 4 Delete Student\n",
      "\n",
      " 5 Save to file\n",
      "\n",
      " 6 Load from file\n",
      "\n",
      " 7 Exit\n"
     ]
    },
    {
     "name": "stdin",
     "output_type": "stream",
     "text": [
      "Enter your command 1\n",
      "enter student name:  a\n",
      "enter student age: 1\n",
      "enter student id 1\n",
      "enter student grades separated by space 1\n"
     ]
    },
    {
     "name": "stdout",
     "output_type": "stream",
     "text": [
      "a added successfully\n",
      "\n",
      "Students CRUD\n",
      "\n",
      " 1 Add Student\n",
      "\n",
      " 2 View Students\n",
      "\n",
      " 3 Update Student\n",
      "\n",
      " 4 Delete Student\n",
      "\n",
      " 5 Save to file\n",
      "\n",
      " 6 Load from file\n",
      "\n",
      " 7 Exit\n"
     ]
    },
    {
     "name": "stdin",
     "output_type": "stream",
     "text": [
      "Enter your command 3\n",
      "enter student id to update 1\n"
     ]
    },
    {
     "name": "stdout",
     "output_type": "stream",
     "text": [
      "no such id\n",
      "\n",
      "Students CRUD\n",
      "\n",
      " 1 Add Student\n",
      "\n",
      " 2 View Students\n",
      "\n",
      " 3 Update Student\n",
      "\n",
      " 4 Delete Student\n",
      "\n",
      " 5 Save to file\n",
      "\n",
      " 6 Load from file\n",
      "\n",
      " 7 Exit\n"
     ]
    }
   ],
   "source": [
    "def main():\n",
    "    \n",
    "    crud = StudentCRUDSys()\n",
    "    \n",
    "    while True:\n",
    "        print(\"\\nStudents CRUD\")\n",
    "        print('\\n 1 Add Student')\n",
    "        print('\\n 2 View Students')\n",
    "        print('\\n 3 Update Student')\n",
    "        print('\\n 4 Delete Student')\n",
    "        print('\\n 5 Save to file')\n",
    "        print('\\n 6 Load from file')\n",
    "        print('\\n 7 Exit')\n",
    "\n",
    "        command = input('Enter your command')\n",
    "        if command == '7':\n",
    "            break\n",
    "        elif command =='1':\n",
    "            name = input('enter student name: ')\n",
    "            age = input('enter student age:')\n",
    "            stud_id = input('enter student id')\n",
    "            grades = input('enter student grades separated by space')\n",
    "            grades_list = list(map(int, grades.split()))\n",
    "            student = Student1(name, age, stud_id, grades_list)    #student object of class Student1\n",
    "            crud.add_student(student)\n",
    "\n",
    "        elif command == '2':\n",
    "            # name = input('enter student name')    #\n",
    "            crud.view_students()\n",
    "\n",
    "        # elif command =='3':\n",
    "        #     student_id = int(input('enter student id to update'))\n",
    "        #     if crud.check_id(student_id):\n",
    "        #         name = input('enter new student name: ')\n",
    "        #         age = input('enter new student age:')\n",
    "        #         grades = input(\"enter student's updated grades separated by space\")\n",
    "        #         crud.update_student(id, name or None, age or None, grades or None)\n",
    "        #     else:\n",
    "        #         print('no such id')\n",
    "\n",
    "        \n",
    "\n",
    "main()          \n",
    "            "
   ]
  },
  {
   "cell_type": "raw",
   "id": "58af06e6-8013-4a25-8f4c-55dbb32a0a90",
   "metadata": {},
   "source": [
    "grades = input('enter student grades separated by space')\n",
    "grades_list = grades.split()"
   ]
  },
  {
   "cell_type": "code",
   "execution_count": 34,
   "id": "4f328269-4780-432e-829f-114626f716eb",
   "metadata": {},
   "outputs": [
    {
     "name": "stdout",
     "output_type": "stream",
     "text": [
      "<class 'list'>\n"
     ]
    },
    {
     "data": {
      "text/plain": [
       "['3', '4', '5', '6']"
      ]
     },
     "execution_count": 34,
     "metadata": {},
     "output_type": "execute_result"
    }
   ],
   "source": [
    "print(type(grades_list))\n",
    "grades_list"
   ]
  },
  {
   "cell_type": "code",
   "execution_count": 40,
   "id": "e4d16066-b288-4fd8-8e3e-61ed4ff5bd6f",
   "metadata": {},
   "outputs": [],
   "source": [
    "grades_list = map(int, grades_list)"
   ]
  },
  {
   "cell_type": "code",
   "execution_count": 41,
   "id": "ae0d4a69-e7d9-4ec1-9f86-284d127d3459",
   "metadata": {},
   "outputs": [
    {
     "name": "stdout",
     "output_type": "stream",
     "text": [
      "<class 'map'>\n"
     ]
    },
    {
     "data": {
      "text/plain": [
       "<map at 0x11155a710>"
      ]
     },
     "execution_count": 41,
     "metadata": {},
     "output_type": "execute_result"
    }
   ],
   "source": [
    "print(type(grades_list))\n",
    "grades_list"
   ]
  },
  {
   "cell_type": "code",
   "execution_count": null,
   "id": "29b15065-4e29-4700-bcfc-31cd50ecf556",
   "metadata": {},
   "outputs": [],
   "source": []
  }
 ],
 "metadata": {
  "kernelspec": {
   "display_name": "Python 3 (ipykernel)",
   "language": "python",
   "name": "python3"
  },
  "language_info": {
   "codemirror_mode": {
    "name": "ipython",
    "version": 3
   },
   "file_extension": ".py",
   "mimetype": "text/x-python",
   "name": "python",
   "nbconvert_exporter": "python",
   "pygments_lexer": "ipython3",
   "version": "3.11.5"
  }
 },
 "nbformat": 4,
 "nbformat_minor": 5
}
